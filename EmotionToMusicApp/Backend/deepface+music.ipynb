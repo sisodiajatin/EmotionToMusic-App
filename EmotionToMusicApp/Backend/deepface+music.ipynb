{
  "nbformat": 4,
  "nbformat_minor": 0,
  "metadata": {
    "colab": {
      "provenance": [],
      "gpuType": "T4"
    },
    "kernelspec": {
      "name": "python3",
      "display_name": "Python 3"
    },
    "language_info": {
      "name": "python"
    },
    "accelerator": "GPU"
  },
  "cells": [
    {
      "cell_type": "code",
      "execution_count": null,
      "metadata": {
        "id": "I3y3JC3OSpML"
      },
      "outputs": [],
      "source": [
        "pip install deepface flask pillow flask-cors numpy opencv-python\n"
      ]
    },
    {
      "cell_type": "code",
      "source": [
        "!pip install flask pyngrok spotipy\n"
      ],
      "metadata": {
        "id": "g8auFa0SVGss"
      },
      "execution_count": null,
      "outputs": []
    },
    {
      "cell_type": "code",
      "source": [
        "!ngrok authtoken 2uupJNTPLof8UaeQ8aTj8gWAfBY_2PVV6ciL14KWDQqcrxVVh"
      ],
      "metadata": {
        "id": "JYljkcGGWFkB"
      },
      "execution_count": null,
      "outputs": []
    },
    {
      "cell_type": "code",
      "source": [
        "from flask import Flask, request, jsonify\n",
        "from pyngrok import ngrok\n",
        "from deepface import DeepFace\n",
        "import os\n",
        "from PIL import Image\n",
        "import numpy as np\n",
        "from io import BytesIO\n",
        "import spotipy\n",
        "from spotipy.oauth2 import SpotifyClientCredentials\n",
        "\n",
        "app = Flask(__name__)\n",
        "\n",
        "# Function to convert numpy types to regular Python types\n",
        "def convert_numpy_types(data):\n",
        "    if isinstance(data, np.generic):\n",
        "        return data.item()\n",
        "    elif isinstance(data, dict):\n",
        "        return {key: convert_numpy_types(value) for key, value in data.items()}\n",
        "    elif isinstance(data, list):\n",
        "        return [convert_numpy_types(item) for item in data]\n",
        "    return data\n",
        "\n",
        "# Spotify Auth\n",
        "def authenticate_spotify():\n",
        "    client_credentials_manager = SpotifyClientCredentials(\n",
        "        client_id=\"2fe8578c9fe74f40b664f04d56eb9e96\",\n",
        "        client_secret=\"35b41a84fa564b3f88839114661b3029\"\n",
        "    )\n",
        "    sp = spotipy.Spotify(client_credentials_manager=client_credentials_manager)\n",
        "    return sp\n",
        "\n",
        "# Search Spotify track\n",
        "def search_spotify_track(features):\n",
        "    sp = authenticate_spotify()\n",
        "    query = f\"valence:{features['valence']} energy:{features['energy']} danceability:{features['danceability']} tempo:{features['tempo']}\"\n",
        "    results = sp.search(q=query, type=\"track\", limit=1)\n",
        "    if results['tracks']['items']:\n",
        "        track = results['tracks']['items'][0]\n",
        "        return {\n",
        "            \"song_name\": track['name'],\n",
        "            \"song_id\": track['id'],\n",
        "            \"artist\": track['artists'][0]['name']\n",
        "        }\n",
        "    else:\n",
        "        return {\"error\": \"No track found matching these features\"}\n",
        "\n",
        "# Audio feature recommendation logic\n",
        "def compute_audio_features_and_recommend(emotion_scores):\n",
        "    good_emotions = [\"happy\", \"surprise\", \"neutral\"]\n",
        "    total = sum(emotion_scores.values())\n",
        "    normalized = {k: v / total for k, v in emotion_scores.items()}\n",
        "    max_emotion_val = max(normalized.values())\n",
        "    if max_emotion_val < 0.6:\n",
        "        for emo in good_emotions:\n",
        "            if emo in normalized:\n",
        "                normalized[emo] *= 1.2\n",
        "\n",
        "    feature_map = {\n",
        "        \"angry\": {\"valence\": 0.3, \"energy\": 0.9, \"danceability\": 0.6, \"tempo\": 130},\n",
        "        \"disgust\": {\"valence\": 0.2, \"energy\": 0.5, \"danceability\": 0.3, \"tempo\": 110},\n",
        "        \"fear\": {\"valence\": 0.2, \"energy\": 0.8, \"danceability\": 0.4, \"tempo\": 120},\n",
        "        \"happy\": {\"valence\": 0.9, \"energy\": 0.9, \"danceability\": 0.8, \"tempo\": 128},\n",
        "        \"neutral\": {\"valence\": 0.5, \"energy\": 0.5, \"danceability\": 0.5, \"tempo\": 110},\n",
        "        \"sad\": {\"valence\": 0.1, \"energy\": 0.3, \"danceability\": 0.3, \"tempo\": 90},\n",
        "        \"surprise\": {\"valence\": 0.8, \"energy\": 0.8, \"danceability\": 0.7, \"tempo\": 125}\n",
        "    }\n",
        "\n",
        "    blended = {\"valence\": 0.0, \"energy\": 0.0, \"danceability\": 0.0, \"tempo\": 0.0}\n",
        "    for emotion, weight in normalized.items():\n",
        "        for feature in blended:\n",
        "            blended[feature] += feature_map[emotion][feature] * weight\n",
        "\n",
        "    return search_spotify_track(blended)\n",
        "\n",
        "# Main route\n",
        "@app.route('/detect_emotion', methods=['POST'])\n",
        "def detect_emotion():\n",
        "    try:\n",
        "        file = request.files['image']\n",
        "        img = Image.open(file.stream)\n",
        "        temp_image_path = \"/tmp/temp_image.jpg\"\n",
        "        img = img.convert(\"RGB\")\n",
        "        img.save(temp_image_path)\n",
        "\n",
        "        analysis = DeepFace.analyze(temp_image_path, actions=['emotion'])\n",
        "        analysis = convert_numpy_types(analysis)\n",
        "\n",
        "        emotion_scores = analysis[0]['emotion']\n",
        "        recommendation = compute_audio_features_and_recommend(emotion_scores)\n",
        "\n",
        "        return jsonify({\n",
        "            'dominant_emotion': analysis[0]['dominant_emotion'],\n",
        "            'emotion_details': emotion_scores,\n",
        "            'recommended_song': recommendation\n",
        "        })\n",
        "    except Exception as e:\n",
        "        return jsonify({'error': str(e)})\n",
        "\n",
        "# Ngrok expose\n",
        "if __name__ == '__main__':\n",
        "    public_url = ngrok.connect(5000)\n",
        "    print(f\"Public URL: {public_url}\")\n",
        "    app.run(port=5000)\n"
      ],
      "metadata": {
        "colab": {
          "base_uri": "https://localhost:8080/"
        },
        "id": "txa09y8hkxmB",
        "outputId": "b1e80abd-2904-434d-c1b3-50f6af926790"
      },
      "execution_count": 7,
      "outputs": [
        {
          "output_type": "stream",
          "name": "stdout",
          "text": [
            "Public URL: NgrokTunnel: \"https://982e-34-125-50-184.ngrok-free.app\" -> \"http://localhost:5000\"\n",
            " * Serving Flask app '__main__'\n",
            " * Debug mode: off\n"
          ]
        },
        {
          "output_type": "stream",
          "name": "stderr",
          "text": [
            "INFO:werkzeug:\u001b[31m\u001b[1mWARNING: This is a development server. Do not use it in a production deployment. Use a production WSGI server instead.\u001b[0m\n",
            " * Running on http://127.0.0.1:5000\n",
            "INFO:werkzeug:\u001b[33mPress CTRL+C to quit\u001b[0m\n",
            "INFO:werkzeug:127.0.0.1 - - [17/Apr/2025 21:10:14] \"POST /detect_emotion HTTP/1.1\" 200 -\n"
          ]
        }
      ]
    }
  ]
}