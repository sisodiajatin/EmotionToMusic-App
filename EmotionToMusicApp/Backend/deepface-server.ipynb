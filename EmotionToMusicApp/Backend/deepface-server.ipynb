{
  "nbformat": 4,
  "nbformat_minor": 0,
  "metadata": {
    "colab": {
      "provenance": [],
      "gpuType": "T4"
    },
    "kernelspec": {
      "name": "python3",
      "display_name": "Python 3"
    },
    "language_info": {
      "name": "python"
    },
    "accelerator": "GPU"
  },
  "cells": [
    {
      "cell_type": "code",
      "execution_count": null,
      "metadata": {
        "id": "I3y3JC3OSpML"
      },
      "outputs": [],
      "source": [
        "pip install deepface flask pillow flask-cors numpy opencv-python\n"
      ]
    },
    {
      "cell_type": "code",
      "source": [
        "!pip install flask pyngrok\n"
      ],
      "metadata": {
        "id": "g8auFa0SVGss",
        "colab": {
          "base_uri": "https://localhost:8080/"
        },
        "outputId": "fc77cb45-d8c1-4acd-f59e-78117294ff79"
      },
      "execution_count": 2,
      "outputs": [
        {
          "output_type": "stream",
          "name": "stdout",
          "text": [
            "Requirement already satisfied: flask in /usr/local/lib/python3.11/dist-packages (3.1.0)\n",
            "Collecting pyngrok\n",
            "  Downloading pyngrok-7.2.4-py3-none-any.whl.metadata (8.7 kB)\n",
            "Requirement already satisfied: Werkzeug>=3.1 in /usr/local/lib/python3.11/dist-packages (from flask) (3.1.3)\n",
            "Requirement already satisfied: Jinja2>=3.1.2 in /usr/local/lib/python3.11/dist-packages (from flask) (3.1.6)\n",
            "Requirement already satisfied: itsdangerous>=2.2 in /usr/local/lib/python3.11/dist-packages (from flask) (2.2.0)\n",
            "Requirement already satisfied: click>=8.1.3 in /usr/local/lib/python3.11/dist-packages (from flask) (8.1.8)\n",
            "Requirement already satisfied: blinker>=1.9 in /usr/local/lib/python3.11/dist-packages (from flask) (1.9.0)\n",
            "Requirement already satisfied: PyYAML>=5.1 in /usr/local/lib/python3.11/dist-packages (from pyngrok) (6.0.2)\n",
            "Requirement already satisfied: MarkupSafe>=2.0 in /usr/local/lib/python3.11/dist-packages (from Jinja2>=3.1.2->flask) (3.0.2)\n",
            "Downloading pyngrok-7.2.4-py3-none-any.whl (23 kB)\n",
            "Installing collected packages: pyngrok\n",
            "Successfully installed pyngrok-7.2.4\n"
          ]
        }
      ]
    },
    {
      "cell_type": "code",
      "source": [
        "!ngrok authtoken 2uupJNTPLof8UaeQ8aTj8gWAfBY_2PVV6ciL14KWDQqcrxVVh"
      ],
      "metadata": {
        "colab": {
          "base_uri": "https://localhost:8080/"
        },
        "id": "JYljkcGGWFkB",
        "outputId": "9c48f372-8da0-48f1-9740-745aeda412e0"
      },
      "execution_count": 3,
      "outputs": [
        {
          "output_type": "stream",
          "name": "stdout",
          "text": [
            "Authtoken saved to configuration file: /root/.config/ngrok/ngrok.yml\n"
          ]
        }
      ]
    },
    {
      "cell_type": "code",
      "source": [
        "from flask import Flask, request, jsonify\n",
        "from pyngrok import ngrok\n",
        "from deepface import DeepFace\n",
        "import os\n",
        "from PIL import Image\n",
        "from io import BytesIO\n",
        "import numpy as np\n",
        "\n",
        "app = Flask(__name__)\n",
        "\n",
        "# Function to convert numpy types to regular Python types\n",
        "def convert_numpy_types(data):\n",
        "    if isinstance(data, np.generic):\n",
        "        return data.item()  # Convert numpy types to native Python types\n",
        "    elif isinstance(data, dict):\n",
        "        return {key: convert_numpy_types(value) for key, value in data.items()}\n",
        "    elif isinstance(data, list):\n",
        "        return [convert_numpy_types(item) for item in data]\n",
        "    return data\n",
        "\n",
        "@app.route('/detect_emotion', methods=['POST'])\n",
        "def detect_emotion():\n",
        "    try:\n",
        "        # Retrieve the image from the request\n",
        "        file = request.files['image']\n",
        "\n",
        "        # Open the image using PIL to ensure it's in a valid format\n",
        "        img = Image.open(file.stream)\n",
        "\n",
        "        # Save the image to a temporary path as a JPEG to ensure compatibility\n",
        "        temp_image_path = \"/tmp/temp_image.jpg\"\n",
        "        img = img.convert(\"RGB\")  # Ensure it's in RGB format\n",
        "        img.save(temp_image_path)\n",
        "\n",
        "        # Run DeepFace to analyze the image and predict emotion\n",
        "        analysis = DeepFace.analyze(temp_image_path, actions=['emotion'])\n",
        "\n",
        "        # Convert the analysis results to a JSON serializable format\n",
        "        analysis = convert_numpy_types(analysis)\n",
        "\n",
        "        # Return the analysis result\n",
        "        return jsonify({\n",
        "            'dominant_emotion': analysis[0]['dominant_emotion'],\n",
        "            'emotion_details': analysis[0]['emotion']\n",
        "        })\n",
        "    except Exception as e:\n",
        "        return jsonify({'error': str(e)})\n",
        "\n",
        "# Expose the Flask app using ngrok\n",
        "if __name__ == '__main__':\n",
        "    public_url = ngrok.connect(5000)\n",
        "    print(f\"Public URL: {public_url}\")\n",
        "    app.run(port=5000)\n"
      ],
      "metadata": {
        "id": "rQboiputTAEu",
        "colab": {
          "base_uri": "https://localhost:8080/"
        },
        "outputId": "15cd3d00-4e03-4084-92a6-f26554143d12"
      },
      "execution_count": null,
      "outputs": [
        {
          "output_type": "stream",
          "name": "stdout",
          "text": [
            "25-04-17 19:55:14 - Directory /root/.deepface has been created\n",
            "25-04-17 19:55:14 - Directory /root/.deepface/weights has been created\n",
            "Public URL: NgrokTunnel: \"https://4a03-34-125-50-184.ngrok-free.app\" -> \"http://localhost:5000\"\n",
            " * Serving Flask app '__main__'\n",
            " * Debug mode: off\n"
          ]
        },
        {
          "output_type": "stream",
          "name": "stderr",
          "text": [
            "INFO:werkzeug:\u001b[31m\u001b[1mWARNING: This is a development server. Do not use it in a production deployment. Use a production WSGI server instead.\u001b[0m\n",
            " * Running on http://127.0.0.1:5000\n",
            "INFO:werkzeug:\u001b[33mPress CTRL+C to quit\u001b[0m\n",
            "INFO:werkzeug:127.0.0.1 - - [17/Apr/2025 19:59:23] \"\u001b[31m\u001b[1mGET /detect_emotion HTTP/1.1\u001b[0m\" 405 -\n"
          ]
        },
        {
          "output_type": "stream",
          "name": "stdout",
          "text": [
            "25-04-17 19:59:32 - facial_expression_model_weights.h5 will be downloaded...\n"
          ]
        },
        {
          "output_type": "stream",
          "name": "stderr",
          "text": [
            "Downloading...\n",
            "From: https://github.com/serengil/deepface_models/releases/download/v1.0/facial_expression_model_weights.h5\n",
            "To: /root/.deepface/weights/facial_expression_model_weights.h5\n",
            "100%|██████████| 5.98M/5.98M [00:00<00:00, 112MB/s]\n",
            "INFO:werkzeug:127.0.0.1 - - [17/Apr/2025 19:59:34] \"POST /detect_emotion HTTP/1.1\" 200 -\n"
          ]
        }
      ]
    }
  ]
}